{
 "cells": [
  {
   "cell_type": "markdown",
   "id": "92c316b0",
   "metadata": {},
   "source": [
    "#Part II: Logistic Regression"
   ]
  },
  {
   "cell_type": "code",
   "execution_count": 2,
   "id": "cb2b2c77",
   "metadata": {},
   "outputs": [],
   "source": [
    "import statistics as st\n",
    "import numpy as np\n",
    "import pandas as pd\n",
    "import seaborn as sn\n",
    "import matplotlib.pyplot as plt"
   ]
  },
  {
   "cell_type": "code",
   "execution_count": 69,
   "id": "514cabaf",
   "metadata": {},
   "outputs": [],
   "source": [
    "# read csv file\n",
    "PenguinD = pd.read_table('penguins_size.csv',sep=',')"
   ]
  },
  {
   "cell_type": "code",
   "execution_count": 70,
   "id": "ee74e0ee",
   "metadata": {},
   "outputs": [
    {
     "name": "stdout",
     "output_type": "stream",
     "text": [
      "<bound method NDFrame.describe of     species     island  culmen_length_mm  culmen_depth_mm  flipper_length_mm  \\\n",
      "0    Adelie  Torgersen              39.1             18.7              181.0   \n",
      "1    Adelie  Torgersen              39.5             17.4              186.0   \n",
      "2    Adelie  Torgersen              40.3             18.0              195.0   \n",
      "3    Adelie  Torgersen               NaN              NaN                NaN   \n",
      "4    Adelie  Torgersen              36.7             19.3              193.0   \n",
      "..      ...        ...               ...              ...                ...   \n",
      "339  Gentoo     Biscoe               NaN              NaN                NaN   \n",
      "340  Gentoo     Biscoe              46.8             14.3              215.0   \n",
      "341  Gentoo     Biscoe              50.4             15.7              222.0   \n",
      "342  Gentoo     Biscoe              45.2             14.8              212.0   \n",
      "343  Gentoo     Biscoe              49.9             16.1              213.0   \n",
      "\n",
      "     body_mass_g     sex  \n",
      "0         3750.0    MALE  \n",
      "1         3800.0  FEMALE  \n",
      "2         3250.0  FEMALE  \n",
      "3            NaN     NaN  \n",
      "4         3450.0  FEMALE  \n",
      "..           ...     ...  \n",
      "339          NaN     NaN  \n",
      "340       4850.0  FEMALE  \n",
      "341       5750.0    MALE  \n",
      "342       5200.0  FEMALE  \n",
      "343       5400.0    MALE  \n",
      "\n",
      "[344 rows x 7 columns]>\n",
      "<bound method NDFrame.head of     species     island  culmen_length_mm  culmen_depth_mm  flipper_length_mm  \\\n",
      "0    Adelie  Torgersen              39.1             18.7              181.0   \n",
      "1    Adelie  Torgersen              39.5             17.4              186.0   \n",
      "2    Adelie  Torgersen              40.3             18.0              195.0   \n",
      "3    Adelie  Torgersen               NaN              NaN                NaN   \n",
      "4    Adelie  Torgersen              36.7             19.3              193.0   \n",
      "..      ...        ...               ...              ...                ...   \n",
      "339  Gentoo     Biscoe               NaN              NaN                NaN   \n",
      "340  Gentoo     Biscoe              46.8             14.3              215.0   \n",
      "341  Gentoo     Biscoe              50.4             15.7              222.0   \n",
      "342  Gentoo     Biscoe              45.2             14.8              212.0   \n",
      "343  Gentoo     Biscoe              49.9             16.1              213.0   \n",
      "\n",
      "     body_mass_g     sex  \n",
      "0         3750.0    MALE  \n",
      "1         3800.0  FEMALE  \n",
      "2         3250.0  FEMALE  \n",
      "3            NaN     NaN  \n",
      "4         3450.0  FEMALE  \n",
      "..           ...     ...  \n",
      "339          NaN     NaN  \n",
      "340       4850.0  FEMALE  \n",
      "341       5750.0    MALE  \n",
      "342       5200.0  FEMALE  \n",
      "343       5400.0    MALE  \n",
      "\n",
      "[344 rows x 7 columns]>\n",
      "RangeIndex(start=0, stop=344, step=1)\n",
      "Index(['species', 'island', 'culmen_length_mm', 'culmen_depth_mm',\n",
      "       'flipper_length_mm', 'body_mass_g', 'sex'],\n",
      "      dtype='object')\n",
      "species               object\n",
      "island                object\n",
      "culmen_length_mm     float64\n",
      "culmen_depth_mm      float64\n",
      "flipper_length_mm    float64\n",
      "body_mass_g          float64\n",
      "sex                   object\n",
      "dtype: object\n",
      "2408\n",
      "(344, 7)\n",
      "\n",
      "MAX\n",
      "\n",
      "species                 Gentoo\n",
      "island               Torgersen\n",
      "culmen_length_mm          59.6\n",
      "culmen_depth_mm           21.5\n",
      "flipper_length_mm        231.0\n",
      "body_mass_g             6300.0\n",
      "dtype: object\n",
      "\n",
      "min\n",
      "\n",
      "species              Adelie\n",
      "island               Biscoe\n",
      "culmen_length_mm       32.1\n",
      "culmen_depth_mm        13.1\n",
      "flipper_length_mm     172.0\n",
      "body_mass_g          2700.0\n",
      "dtype: object\n",
      "\n",
      "median\n",
      "\n",
      "culmen_length_mm       44.45\n",
      "culmen_depth_mm        17.30\n",
      "flipper_length_mm     197.00\n",
      "body_mass_g          4050.00\n",
      "dtype: float64\n",
      "\n",
      "mean\n",
      "\n",
      "culmen_length_mm       43.921930\n",
      "culmen_depth_mm        17.151170\n",
      "flipper_length_mm     200.915205\n",
      "body_mass_g          4201.754386\n",
      "dtype: float64\n",
      "\n",
      "stdev\n",
      "\n",
      "culmen_length_mm       5.459584\n",
      "culmen_depth_mm        1.974793\n",
      "flipper_length_mm     14.061714\n",
      "body_mass_g          801.954536\n",
      "dtype: float64\n"
     ]
    },
    {
     "name": "stderr",
     "output_type": "stream",
     "text": [
      "C:\\Users\\User\\AppData\\Local\\Temp/ipykernel_15428/400075466.py:11: FutureWarning: Dropping of nuisance columns in DataFrame reductions (with 'numeric_only=None') is deprecated; in a future version this will raise TypeError.  Select only valid columns before calling the reduction.\n",
      "  print(PenguinD.max(axis = 0))\n",
      "C:\\Users\\User\\AppData\\Local\\Temp/ipykernel_15428/400075466.py:13: FutureWarning: Dropping of nuisance columns in DataFrame reductions (with 'numeric_only=None') is deprecated; in a future version this will raise TypeError.  Select only valid columns before calling the reduction.\n",
      "  print(PenguinD.min(axis = 0))\n",
      "C:\\Users\\User\\AppData\\Local\\Temp/ipykernel_15428/400075466.py:15: FutureWarning: Dropping of nuisance columns in DataFrame reductions (with 'numeric_only=None') is deprecated; in a future version this will raise TypeError.  Select only valid columns before calling the reduction.\n",
      "  print(PenguinD.median(axis = 0))\n",
      "C:\\Users\\User\\AppData\\Local\\Temp/ipykernel_15428/400075466.py:17: FutureWarning: Dropping of nuisance columns in DataFrame reductions (with 'numeric_only=None') is deprecated; in a future version this will raise TypeError.  Select only valid columns before calling the reduction.\n",
      "  print(PenguinD.mean(axis = 0))\n",
      "C:\\Users\\User\\AppData\\Local\\Temp/ipykernel_15428/400075466.py:19: FutureWarning: Dropping of nuisance columns in DataFrame reductions (with 'numeric_only=None') is deprecated; in a future version this will raise TypeError.  Select only valid columns before calling the reduction.\n",
      "  print(PenguinD.std(axis = 0))\n"
     ]
    }
   ],
   "source": [
    "# main statistics with pandas\n",
    "print(PenguinD.describe)\n",
    "print(PenguinD.head)\n",
    "print(PenguinD.index)\n",
    "print(PenguinD.columns)\n",
    "print(PenguinD.dtypes)\n",
    "print(PenguinD.size)\n",
    "print(PenguinD.shape)\n",
    "\n",
    "print(\"\\nMAX\\n\")\n",
    "print(PenguinD.max(axis = 0))\n",
    "print(\"\\nmin\\n\")\n",
    "print(PenguinD.min(axis = 0))\n",
    "print(\"\\nmedian\\n\")\n",
    "print(PenguinD.median(axis = 0))\n",
    "print(\"\\nmean\\n\")\n",
    "print(PenguinD.mean(axis = 0))\n",
    "print(\"\\nstdev\\n\")\n",
    "print(PenguinD.std(axis = 0))"
   ]
  },
  {
   "cell_type": "code",
   "execution_count": 184,
   "id": "0472b17b",
   "metadata": {},
   "outputs": [
    {
     "name": "stdout",
     "output_type": "stream",
     "text": [
      "species              0\n",
      "island               0\n",
      "culmen_length_mm     0\n",
      "culmen_depth_mm      0\n",
      "flipper_length_mm    0\n",
      "body_mass_g          0\n",
      "sex                  0\n",
      "dtype: int64\n"
     ]
    }
   ],
   "source": [
    "print(pd.isnull(PenguinD).sum(axis=0))\n",
    "PenguinD=PenguinD.dropna()"
   ]
  },
  {
   "cell_type": "code",
   "execution_count": 185,
   "id": "313a2d2f",
   "metadata": {},
   "outputs": [],
   "source": [
    "PenguinD['species'] = PenguinD['species'].replace('Adelie', 0).replace('Chinstrap', 1).replace('Gentoo', 2)\n",
    "PenguinD['island'] = PenguinD['island'].replace('Biscoe', 0).replace('Dream', 1).replace('Torgersen', 2)\n",
    "PenguinD['sex'] = PenguinD['sex'].replace('FEMALE', 0).replace('MALE', 1).replace('.',0)\n",
    "\n",
    "PenguinD[\"species\"] = PenguinD[\"species\"].astype(\"category\")\n",
    "PenguinD[\"island\"] = PenguinD[\"island\"].astype(\"category\")\n",
    "PenguinD[\"sex\"] = PenguinD[\"sex\"].astype(\"category\")"
   ]
  },
  {
   "cell_type": "code",
   "execution_count": 186,
   "id": "b70425ad",
   "metadata": {},
   "outputs": [],
   "source": [
    "NpenD = PenguinD\n",
    "NpenD[\"culmen_length_mm\"] = (NpenD['culmen_length_mm']-min(NpenD['culmen_length_mm']))/((max(NpenD['culmen_length_mm'])-min(NpenD['culmen_length_mm'])))\n",
    "NpenD[\"culmen_depth_mm\"] = (NpenD['culmen_depth_mm']-min(NpenD['culmen_depth_mm']))/((max(NpenD['culmen_depth_mm'])-min(NpenD['culmen_depth_mm'])))\n",
    "NpenD[\"flipper_length_mm\"] = (NpenD['flipper_length_mm']-min(NpenD['flipper_length_mm']))/((max(NpenD['flipper_length_mm'])-min(NpenD['flipper_length_mm'])))\n",
    "NpenD[\"body_mass_g\"] = (NpenD['body_mass_g']-min(NpenD['body_mass_g']))/((max(NpenD['body_mass_g'])-min(NpenD['body_mass_g'])))"
   ]
  },
  {
   "cell_type": "code",
   "execution_count": 187,
   "id": "fe63ce74",
   "metadata": {},
   "outputs": [],
   "source": [
    "# predict which gender a penguin belongs to (female or male)\n",
    "slice_train = pd.concat([NpenD.iloc[22:140, 0:7], NpenD.iloc[162:270, 0:7], NpenD.iloc[292:, 0:7]]).reset_index(drop=True)\n",
    "slice_test = pd.concat([NpenD.iloc[0:22, 0:7], NpenD.iloc[140:162, 0:7], NpenD.iloc[270:292, 0:7]]).reset_index(drop=True)\n",
    "\n",
    "X_train = slice_train.iloc[:, 0:6]\n",
    "Y_train = slice_train.iloc[:, 6:7]\n",
    "# # print(y_train)\n",
    "X_test = slice_test.iloc[:, 0:6]\n",
    "Y_test = slice_test.iloc[:, 6:7]"
   ]
  },
  {
   "cell_type": "code",
   "execution_count": 188,
   "id": "b9bbcbe4",
   "metadata": {},
   "outputs": [
    {
     "name": "stdout",
     "output_type": "stream",
     "text": [
      "X_train Y_train X_test Y_test\n",
      "(268, 6) (268, 1) (66, 6) (66, 1)\n"
     ]
    }
   ],
   "source": [
    "# 80% training and 20% testing\n",
    "\n",
    "# X_train = X.sample(frac=0.8,random_state=1)\n",
    "# Y_train = Y.sample(frac=0.8,random_state=1)\n",
    "# X_test = X.drop(X_train.index)\n",
    "# Y_test = Y.drop(Y_train.index)\n",
    "\n",
    "print(\"X_train Y_train X_test Y_test\")\n",
    "print(X_train.shape, Y_train.shape, X_test.shape, Y_test.shape)"
   ]
  },
  {
   "cell_type": "code",
   "execution_count": 189,
   "id": "d68eca40",
   "metadata": {},
   "outputs": [],
   "source": [
    "class LogitRegression(object):\n",
    "    def __init__(self, learning_rate, iterations):\n",
    "        self.learning_rate = learning_rate\n",
    "        self.iterations = iterations\n",
    "\n",
    "    def fit(self, X, y):\n",
    "        w = np.zeros((1, 6))\n",
    "        b = 0\n",
    "        loss = []\n",
    "        for i in range(self.iterations):\n",
    "            dw, db, cost = self.cost_gradient_descent(w, b, X, y)\n",
    "            w = w - (self.learning_rate * dw.T)\n",
    "            b = b - (self.learning_rate * db)\n",
    "            if i % 100 == 0:\n",
    "                loss.append(cost)\n",
    "        return w, b, loss\n",
    "\n",
    "    def sigmoid(self, z):\n",
    "        sigmoid_z = 1 / (1 + np.exp(-z))\n",
    "        return sigmoid_z\n",
    "\n",
    "    def cost_gradient_descent(self, w, b, X, y):\n",
    "        y = y.values\n",
    "        #Define current prediction y_hat for logistic regression\n",
    "        pred = self.sigmoid(np.dot(X, w.T) + b)\n",
    "        #Gradient descent is just the derivative of the loss function with respect to its weights\n",
    "        dw = (1 / X.shape[0]) * (np.dot(X.T, (pred - y)))\n",
    "        db = (1 / X.shape[0]) * (np.sum(pred - y))\n",
    "        cost = (-1 / X.shape[0]) * (np.sum((y * np.log(pred)) + ((1 - y) * np.log(1 - pred))))\n",
    "        return dw, db, cost\n",
    "\n",
    "\n",
    "    def predict(self, w, b, X, y):\n",
    "        y = y.values\n",
    "        y_hat = self.sigmoid(np.dot(X, w.T) + b)\n",
    "        count = 0\n",
    "\n",
    "        for i in range(X.shape[0]):\n",
    "            if y_hat[i] >= 0.5:\n",
    "                y_hat[i] = 1\n",
    "            else:\n",
    "                y_hat[i] = 0\n",
    "\n",
    "        for i in range(X.shape[0]):\n",
    "            if y_hat[i] == y[i]:\n",
    "                count += 1\n",
    "\n",
    "        accuracy = count / X.shape[0] * 100\n",
    "\n",
    "        return accuracy"
   ]
  },
  {
   "cell_type": "code",
   "execution_count": 193,
   "id": "71ab6e2e",
   "metadata": {},
   "outputs": [
    {
     "name": "stdout",
     "output_type": "stream",
     "text": [
      "72.72727272727273\n",
      "[0.6931471805599453, 0.6925046062028347, 0.6918863978845987, 0.6912890273183663, 0.6907095051604725, 0.6901452985067643, 0.6895942609707201, 0.6890545734452646, 0.6885246939295047, 0.6880033150421176, 0.687489328049448, 0.6869817924128783, 0.6864799100107024, 0.6859830033180756, 0.6854904969378078, 0.6850019019675402, 0.6845168027675927, 0.6840348457605678, 0.6835557299504124, 0.683079198896612, 0.6826050339198186, 0.6821330483496106, 0.6816630826542, 0.6811950003165441, 0.6807286843421755, 0.6802640343016992, 0.6798009638258488, 0.6793393984836084, 0.6788792739846085, 0.678420534656034, 0.6779631321519376, 0.6775070243593209, 0.6770521744708276, 0.6765985501985148, 0.6761461231071029, 0.6756948680484107, 0.6752447626814974, 0.6747957870654041, 0.6743479233133999, 0.6739011552993415, 0.6734554684081898, 0.6730108493239524, 0.6725672858493479, 0.6721247667523643, 0.671683281635621, 0.6712428208250708, 0.67080337527511, 0.6703649364876081, 0.6699274964427541, 0.6694910475399356, 0.6690555825471376, 0.6686210945575813, 0.6681875769525168, 0.6677550233692493, 0.667323427673618, 0.6668927839362668, 0.6664630864121459, 0.6660343295227656, 0.6656065078408016, 0.665179616076706, 0.6647536490670344, 0.6643286017642424, 0.6639044692277372, 0.6634812466160119, 0.6630589291797054, 0.6626375122554594, 0.6622169912604656, 0.6617973616876052, 0.6613786191011025, 0.6609607591326258, 0.6605437774777728, 0.6601276698928968, 0.6597124321922252, 0.6592980602452371, 0.6588845499742684, 0.6584718973523155, 0.6580600984010169, 0.6576491491887901, 0.6572390458291094, 0.6568297844789067, 0.656421361337084, 0.6560137726431264, 0.6556070146758053, 0.6552010837519634, 0.654795976225372, 0.6543916884856593, 0.6539882169572969, 0.6535855580986449, 0.6531837084010484, 0.6527826643879817, 0.6523824226142367, 0.6519829796651531, 0.6515843321558851, 0.6511864767307052, 0.6507894100623403, 0.6503931288513376, 0.6499976298254627, 0.6496029097391199, 0.649208965372803, 0.6488157935325656]\n"
     ]
    }
   ],
   "source": [
    "model = LogitRegression(0.001, 10000)\n",
    "\n",
    "w, b, loss = model.fit(X_train, Y_train)\n",
    "accuracy = model.predict(w, b, X_test, Y_test)\n",
    "\n",
    "print(accuracy)\n",
    "print(loss)"
   ]
  },
  {
   "cell_type": "code",
   "execution_count": 194,
   "id": "6199b63b",
   "metadata": {},
   "outputs": [
    {
     "data": {
      "image/png": "[encoded data removed]",
      "text/plain": [
       "<Figure size 720x360 with 1 Axes>"
      ]
     },
     "metadata": {
      "needs_background": "light"
     },
     "output_type": "display_data"
    }
   ],
   "source": [
    "fig, ax = plt.subplots(figsize=(10, 5))\n",
    "ax.plot(loss)\n",
    "ax.set_title('Cost over iterations')\n",
    "ax.set_xlabel('Iterations (per hundreds)')\n",
    "ax.set_ylabel('Cost')\n",
    "plt.show()"
   ]
  },
  {
   "cell_type": "code",
   "execution_count": null,
   "id": "6f8a8d1e",
   "metadata": {},
   "outputs": [],
   "source": []
  }
 ],
 "metadata": {
  "kernelspec": {
   "display_name": "Python 3 (ipykernel)",
   "language": "python",
   "name": "python3"
  },
  "language_info": {
   "codemirror_mode": {
    "name": "ipython",
    "version": 3
   },
   "file_extension": ".py",
   "mimetype": "text/x-python",
   "name": "python",
   "nbconvert_exporter": "python",
   "pygments_lexer": "ipython3",
   "version": "3.9.7"
  }
 },
 "nbformat": 4,
 "nbformat_minor": 5
}
