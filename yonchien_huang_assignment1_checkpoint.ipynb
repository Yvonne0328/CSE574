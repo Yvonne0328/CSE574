{
  "cells": [
    {
      "cell_type": "markdown",
      "metadata": {
        "id": "KH1K6cXFvnmj"
      },
      "source": [
        "<div align=\"center\"> <h3><font color='cyan'>CSE 574 Sections C&D: Introduction to Machine Learning, Spring 2022 </font> \n",
        "<h1> Assignment 1 - Python Intro\n",
        "\n",
        "<h3>Checkpoint: February 13, Sun, 11:59pm\n",
        "<h2><font color='red'>Final Due Date: </font> February 20, Sun, 11:59pm</div>\n",
        "\n",
        "Welcome to your first CSE 574 assignment! The goal of this assignment is to sharpen your programming skills needed for this class. It is focused on familiarizing yourself with Python and main data science libraries that will be used for other assignments as well.\n",
        "\n",
        "There are a total of five parts. We will focus on basic Python functions, explore numpy, pandas and matplotlib libraries and analyze the real-world dataset.\n",
        "\n",
        "If you are new to Python, check our [Python resources page](https://ubuffalo-my.sharepoint.com/:w:/g/personal/avereshc_buffalo_edu/ESoUg6v6aoJImaeWXy90SqMBiubxGGAkG7dhaNyhuBum_w?e=3Tlwbz) and our class demos.\n",
        "\n",
        "\n",
        "### Submission\n",
        "\n",
        "All the details you need for this assignment are located within this notebook. You are expected to follow every block and complete the task within the marks ``` # BEGIN_YOUR_CODE ``` and ```# END_YOUR_CODE```, as well as adding an Academic Integrity statement at the beginning within the marks ```# ADD YOUR ACADEMIC INTERGITY STATEMENT``` and ```# END OF YOUR ACADEMIC INTERGITY STATEMENT```. Do not modify or edit code beyond these lines. You can add helper functions in the new cells, if needed. We recommend completing the task within this .ipynb notebook, if needed you can convert it and submit as .py script. Try to make your code as clean and simple as possible and be sure to write your answers between the begin answer and end answer comments.\n",
        "\n",
        "1. Submit at **UBLearns > Assignments**\n",
        "2. The code of your implementations should be written in Python\n",
        "3. All project files should be packed in a ZIP file named YOUR_FIRST_NAME_YOUR_LAST_NAME_assignment1.zip (e.g. alina_vereshchaka_assignment1.zip).\n",
        "4. Your Jupyter notebook should be saved with the results. If you are submitting python scripts, after extracting the ZIP file and executing command python main.py in the first level directory, all the generated results and plots you used in your report should appear printed out in a clear manner.  \n",
        "6. Include all the references that have been used to complete the assignment.\n",
        "\n",
        "### Checkpoint Submission <font color='red'>[Due Date: Feb 13]</font>\n",
        "Complete Part 1, Part 2 and Part 3 and submit the code in the ZIP file named YOUR_FIRST_NAME_YOUR_LAST_NAME_assignment1_checkpoint.zip. Checkpoint will be evaluated after the final submission.\n",
        "\n",
        "### Final Submission <font color='red'>[Due Date: Feb 20]</font>\n",
        "Complete all parts of the assignment and submit the code in the ZIP file named YOUR_FIRST_NAME_YOUR_LAST_NAME_assignment1_final.zip. You may add slight modification to your Checkpoint submission if needed.\n",
        "\n",
        "**Assignment Outline**\n",
        "\n",
        "| Part | Description | # of tasks | Points |\n",
        "| --- | --- | --- | --- |\n",
        "| [Part 1](#part1) | Basics | 10 | 20 |\n",
        "| [Part 2](#part2) | Numpy Basics | 11 | 20 |\n",
        "| [Part 3](#part3) | Algorithms | 2 | 20 |\n",
        "| [Part 4](#part4) | Pandas Basics | 8 | 20 |\n",
        "| [Part 5](#part5) | Matplotlib Basics | 9 | 20 |\n",
        "\n",
        "    \n",
        "### Academic Integrity\n",
        "\n",
        "This assignment must be completed individually.\n",
        "The standing policy of the Department is that all students involved in any academic integrity violation (e.g. plagiarism in any way, shape, or form) will receive an F grade for the course. The catalog describes plagiarism as “Copying or receiving material from any source and submitting that material as one’s own, without acknowledging and citing the particular debts to the source, or in any other manner representing the work of another as one’s own.”. Refer to the [Office of Academic Integrity](https://www.buffalo.edu/academic-integrity.html) for more details.\n",
        "\n",
        "### <font color='red'>IMPORTANT NOTE</font>\n",
        "In order to certify that you followed Academic Integrity policy while completing the assignment, please include the following statement as a comment block. In case you submit multiple files, add this statement at the beginning of each code file submitted: \n",
        "\n",
        "\"I certify that the code and data in this assignment were generated independently, using only the tools and resources defined in the course and that I did not receive any external help, coaching or contributions during the production of this work.\"\n",
        "\n",
        "Submissions without the academic integrity statement will not be evaluated and will receive a 0.\n",
        "\n",
        "### Late Days Policy\n",
        "You can use up to 7 late days throughout the course toward any assignments' checkpoint or final submission. You do not have to inform the instructor, as the late submission will be tracked in UBlearns.\n",
        "\n",
        "### FAQ\n",
        ">What does 'raise Exception(\"Not implemented yet\")' mean?\n",
        "\n",
        "Here we define a custom exception to highlight that the task is not implemented yet. Once you implement your code, ensure to remove this part.\n",
        "\n",
        ">Can I add code beyond # BEGIN_YOUR_CODE parts.\n",
        "\n",
        "Yes, you can add helper functions. Add them in the separate cell with the comments, why you need it\n"
      ]
    },
    {
      "cell_type": "markdown",
      "metadata": {
        "id": "d7agr8a5a6yP"
      },
      "source": [
        "## START COMPLETING YOUR ASSIGNMENT HERE"
      ]
    },
    {
      "cell_type": "code",
      "execution_count": 218,
      "metadata": {
        "id": "m89X9Bfka6yQ",
        "colab": {
          "base_uri": "https://localhost:8080/",
          "height": 150
        },
        "outputId": "f865587f-e944-440f-85a8-8d321440cba5"
      },
      "outputs": [
        {
          "output_type": "error",
          "ename": "SyntaxError",
          "evalue": "ignored",
          "traceback": [
            "\u001b[0;36m  File \u001b[0;32m\"<ipython-input-218-d52caf16991f>\"\u001b[0;36m, line \u001b[0;32m2\u001b[0m\n\u001b[0;31m    I certify that the code and data in this assignment were generated independently, using only the tools and resources defined in the course and that I did not receive any external help, coaching or contributions during the production of this work.\u001b[0m\n\u001b[0m            ^\u001b[0m\n\u001b[0;31mSyntaxError\u001b[0m\u001b[0;31m:\u001b[0m invalid syntax\n"
          ]
        }
      ],
      "source": [
        "# ADD YOUR ACADEMIC INTERGITY STATEMENT HERE AS A COMMENT BLOCK BELOW. CHECK IMPORTANT NOTE FOR MORE DETAILS.\n",
        "I certify that the code and data in this assignment were generated independently, using only the tools and resources defined in the course and that I did not receive any external help, coaching or contributions during the production of this work.\n",
        "# END OF YOUR ACADEMIC INTERGITY STATEMENT"
      ]
    },
    {
      "cell_type": "markdown",
      "metadata": {
        "id": "RiMGYifjvnmy"
      },
      "source": [
        "<a id='part1'></a>\n",
        "## Part 1 - Pyhton Basics [20 points]"
      ]
    },
    {
      "cell_type": "markdown",
      "metadata": {
        "id": "2LUCpwD6vnm1"
      },
      "source": [
        "The first part of this assignment gives you practice with python syntax. Follow the cells below for the instructions."
      ]
    },
    {
      "cell_type": "code",
      "execution_count": null,
      "metadata": {
        "id": "pYW7jZF2vnm2"
      },
      "outputs": [],
      "source": [
        "''' Hello\n",
        "Print a word \"Hello \" 101 times\n",
        "'''\n",
        "\n",
        "# BEGIN_YOUR_CODE\n",
        "for i in range(100):\n",
        "  print(\"Hello \")\n",
        "# END_YOUR_CODE"
      ]
    },
    {
      "cell_type": "code",
      "execution_count": 219,
      "metadata": {
        "id": "APQwB0Tla6yR",
        "colab": {
          "base_uri": "https://localhost:8080/"
        },
        "outputId": "ef39d068-d7d5-4a5a-fad7-fb1e1badc7e9"
      },
      "outputs": [
        {
          "output_type": "stream",
          "name": "stdout",
          "text": [
            "Hello UB\n"
          ]
        }
      ],
      "source": [
        "''' Hello World\n",
        "Using two variables hello and world defined below return 'Hello UB'. \n",
        "'''\n",
        "\n",
        "hello  = 'hello'\n",
        "world = 'ub'\n",
        "\n",
        "# BEGIN_YOUR_CODE\n",
        "print(hello.capitalize() +\" \"+ world.upper())\n",
        "\n",
        "# END_YOUR_CODE"
      ]
    },
    {
      "cell_type": "code",
      "execution_count": 220,
      "metadata": {
        "colab": {
          "base_uri": "https://localhost:8080/"
        },
        "id": "3YRz3UwMa6yS",
        "outputId": "5ea79f58-0bf2-4c60-feab-8184fab540ba"
      },
      "outputs": [
        {
          "output_type": "stream",
          "name": "stdout",
          "text": [
            "[0, 1, 2, 3, 4, 5]\n"
          ]
        }
      ],
      "source": [
        "''' Updating elements\n",
        "Given a string my_list, update the third element to '2' and fourth element to '3', so the output is as follows: [0, 1, 2, 3, 4, 5]\n",
        "'''\n",
        "\n",
        "my_list = [0, 1, 'two', 'three', 4, 5]\n",
        "\n",
        "# BEGIN_YOUR_CODE\n",
        "my_list[2] = 2\n",
        "my_list[3] = 3\n",
        "print(my_list)\n",
        "\n",
        "# END_YOUR_CODE"
      ]
    },
    {
      "cell_type": "code",
      "execution_count": 221,
      "metadata": {
        "colab": {
          "base_uri": "https://localhost:8080/"
        },
        "id": "RSbrMUQza6yS",
        "outputId": "b4f3632b-c9e7-40b6-ce03-cdc1840f68c2"
      },
      "outputs": [
        {
          "output_type": "stream",
          "name": "stdout",
          "text": [
            "[0, 1, 1, 2, 3, 5, 8, 13, 21, 34, 55, 89]\n"
          ]
        }
      ],
      "source": [
        "'''Fibonacci Series\n",
        "Print the first 12 Fibonacci numbers\n",
        "'''\n",
        "\n",
        "# BEGIN_YOUR_CODE\n",
        "FN = [0,1]\n",
        "for i in range(10):\n",
        "  FN.append(FN[i]+FN[i+1])\n",
        "print(FN)\n",
        "# END_YOUR_CODE"
      ]
    },
    {
      "cell_type": "code",
      "execution_count": null,
      "metadata": {
        "colab": {
          "base_uri": "https://localhost:8080/"
        },
        "id": "eQ7SJvrLvnm5",
        "outputId": "4f96a241-6724-4a8f-d535-a4b88a1620b5"
      },
      "outputs": [
        {
          "output_type": "stream",
          "name": "stdout",
          "text": [
            "['The Matrix Resurrections', 'The Matrix Revolutions', 'The Matrix Reloaded', 'The Matrix']\n"
          ]
        }
      ],
      "source": [
        "''' Reversing\n",
        "Reverse the order of elements in a list given below, so the output is as follows: ['The Matrix Resurrections', 'The Matrix Revolutions', 'The Matrix Reloaded', 'The Matrix']\n",
        "'''\n",
        "\n",
        "list1 = [\"The Matrix\", \"The Matrix Reloaded\", \"The Matrix Revolutions\", \"The Matrix Resurrections\"]\n",
        "\n",
        "# BEGIN_YOUR_CODE\n",
        "list2 = []\n",
        "for i in range(4,0,-1):\n",
        "  list2.append(list1[i-1])\n",
        "print(list2)\n",
        "# END_YOUR_CODE"
      ]
    },
    {
      "cell_type": "code",
      "execution_count": null,
      "metadata": {
        "colab": {
          "base_uri": "https://localhost:8080/"
        },
        "id": "G472Jj3gvnm6",
        "outputId": "d6f6cb35-6a06-4fb2-9158-a4d81df95ce3"
      },
      "outputs": [
        {
          "output_type": "stream",
          "name": "stdout",
          "text": [
            "python\n"
          ]
        }
      ],
      "source": [
        "'''Concatenating strings\n",
        "Concatenate strings in a list below, so the output is as follows: \"python\"\n",
        "'''\n",
        "\n",
        "list2 = ['p', 'y', 't', 'h', 'o', 'n']\n",
        "\n",
        "# BEGIN_YOUR_CODE\n",
        "print(\"\".join(list2))\n",
        "# END_YOUR_CODE"
      ]
    },
    {
      "cell_type": "code",
      "execution_count": null,
      "metadata": {
        "colab": {
          "base_uri": "https://localhost:8080/"
        },
        "id": "vsIKrnuFvnm7",
        "outputId": "def2a094-7bc7-4bba-923b-da1e9103d41a"
      },
      "outputs": [
        {
          "output_type": "stream",
          "name": "stdout",
          "text": [
            "[(0, 'Yann LeCun'), (1, 'Yoshua Bengio'), (2, 'Geoffrey Hinton'), (3, 'Fei-Fei Li'), (4, 'Andrew Ng')]\n"
          ]
        }
      ],
      "source": [
        "'''Numbering a list\n",
        "Print a numbered list of the famous AI researchers using \"enumerate()\" function\n",
        "'''\n",
        "\n",
        "researchers = ['Yann LeCun', 'Yoshua Bengio', 'Geoffrey Hinton', 'Fei-Fei Li', 'Andrew Ng']\n",
        "\n",
        "# BEGIN_YOUR_CODE\n",
        "print(list(enumerate(researchers)))\n",
        "# END_YOUR_CODE"
      ]
    },
    {
      "cell_type": "code",
      "execution_count": null,
      "metadata": {
        "colab": {
          "base_uri": "https://localhost:8080/"
        },
        "id": "Izsh0n6Hvnm8",
        "outputId": "664221b6-a008-4064-80f9-289b2f048f20"
      },
      "outputs": [
        {
          "output_type": "stream",
          "name": "stdout",
          "text": [
            "[('Yann LeCun', 'Facebook'), ('Yoshua Bengio', 'Université de Montréal'), ('Geoffrey Hinton', 'University of Toronto'), ('Fei-Fei Li', 'Stanford University'), ('Andrew Ng', 'Landing AI')]\n"
          ]
        }
      ],
      "source": [
        "'''Combining lists\n",
        "Combine two lists given below using zip() fucntion and print out the result\n",
        "'''\n",
        "\n",
        "researchers = ['Yann LeCun', 'Yoshua Bengio', 'Geoffrey Hinton', 'Fei-Fei Li', 'Andrew Ng']\n",
        "work = ['Facebook', 'Université de Montréal', 'University of Toronto', 'Stanford University', 'Landing AI']\n",
        "\n",
        "# BEGIN_YOUR_CODE\n",
        "print(list(zip(researchers,work)))\n",
        "# END_YOUR_CODE"
      ]
    },
    {
      "cell_type": "code",
      "execution_count": null,
      "metadata": {
        "colab": {
          "base_uri": "https://localhost:8080/"
        },
        "id": "OT3gRMo7a6yU",
        "outputId": "7b3e802c-8589-4425-bc12-93a5a4964aff"
      },
      "outputs": [
        {
          "output_type": "stream",
          "name": "stdout",
          "text": [
            "[1, 4, 27, 16, 125, 36, 343, 64, 729, 100, 1331, 144]\n"
          ]
        }
      ],
      "source": [
        "'''Print squares of even numbers and cubes of odd numbers for numbers from 1 till 12.\n",
        "So the output comes in the form as follows: [1, 4, 27, 16, 125, 36, ....]\n",
        "'''\n",
        "\n",
        "# BEGIN_YOUR_CODE\n",
        "list = []\n",
        "for i in range (1,13):\n",
        "  if (i%2==0):\n",
        "    list.append(i**2)\n",
        "  else:\n",
        "    list.append(i**3)\n",
        "print(list)\n",
        "\n",
        "# END_YOUR_CODE"
      ]
    },
    {
      "cell_type": "code",
      "execution_count": null,
      "metadata": {
        "id": "tM242AlVvnm9"
      },
      "outputs": [],
      "source": [
        "''' Sum function\n",
        "Modify the function below to return a sum of a and b\n",
        "'''\n",
        "\n",
        "def add(a: int, b: int) -> int:\n",
        "    \n",
        "    # BEGIN_YOUR_CODE\n",
        "  return (a+b)\n",
        "    # END_YOUR_CODE"
      ]
    },
    {
      "cell_type": "markdown",
      "metadata": {
        "id": "o4HwFdtlvnm_"
      },
      "source": [
        "We defined ```add_test``` to test your ```add``` function. For this function we ```import random``` library. This is a very commonly used package that helps to generate random values. For example:\n",
        "\n",
        "``` python\n",
        "random.randint(0, 100) #Returns any random integer from 0 to 100\n",
        "```"
      ]
    },
    {
      "cell_type": "code",
      "execution_count": null,
      "metadata": {
        "id": "TfVs9QUIvnnA"
      },
      "outputs": [],
      "source": [
        "import random\n",
        "\n",
        "def add_test():\n",
        "    a = random.randint(0, 9)\n",
        "    b = random.randint(0, 9)\n",
        "    result = add(a, b)\n",
        "\n",
        "    return('Value of a is {0}, value of b is {1}, and their sum is {2}.'.format(a, b,result))"
      ]
    },
    {
      "cell_type": "code",
      "execution_count": null,
      "metadata": {
        "colab": {
          "base_uri": "https://localhost:8080/"
        },
        "id": "cOLrlf2GvnnB",
        "outputId": "c382fef7-cb37-41db-ac68-e8ef489c2083"
      },
      "outputs": [
        {
          "output_type": "stream",
          "name": "stdout",
          "text": [
            "Value of a is 9, value of b is 0, and their sum is 9.\n"
          ]
        }
      ],
      "source": [
        "# Here we call our function 'add_test' to test your add function with random values\n",
        "if __name__ == '__main__':\n",
        "    print(add_test())"
      ]
    },
    {
      "cell_type": "markdown",
      "metadata": {
        "id": "12yDhDMxvnnB"
      },
      "source": [
        "<a id='part2'></a>\n",
        "## Part 2 - Numpy Basics [20 points]"
      ]
    },
    {
      "cell_type": "markdown",
      "metadata": {
        "id": "-JmI82NyvnnC"
      },
      "source": [
        "In this section we will explore one of the most commonly used package - Numpy. You can refer to the [Official NumPy Guide](https://numpy.org/doc/stable/)."
      ]
    },
    {
      "cell_type": "code",
      "execution_count": null,
      "metadata": {
        "id": "CstiC-8CvnnC"
      },
      "outputs": [],
      "source": [
        "'''Import the numpy package\n",
        "'''\n",
        "\n",
        "# BEGIN_YOUR_CODE\n",
        "import numpy as np\n",
        "# END_YOUR_CODE"
      ]
    },
    {
      "cell_type": "code",
      "execution_count": null,
      "metadata": {
        "colab": {
          "base_uri": "https://localhost:8080/"
        },
        "id": "2Cdaj9aTvnnE",
        "outputId": "25d1cc29-8748-49bd-831a-9fadf8805d53"
      },
      "outputs": [
        {
          "output_type": "stream",
          "name": "stdout",
          "text": [
            "[16  5 25 11 36 21  2 21 43 20]\n"
          ]
        }
      ],
      "source": [
        "''' Random integers\n",
        "Create an array of random integers from 0 to 50 with the length 10 using numpy random generator\n",
        "'''\n",
        "\n",
        "# BEGIN_YOUR_CODE\n",
        "array = np.random.randint(0,51, size=10, dtype=int)\n",
        "# END_YOUR_CODE\n",
        "\n",
        "print(array)"
      ]
    },
    {
      "cell_type": "code",
      "execution_count": null,
      "metadata": {
        "colab": {
          "base_uri": "https://localhost:8080/"
        },
        "id": "D_NEdSyVvnnF",
        "outputId": "427cfdff-6ef0-4527-bdb9-a6c085fbd31f"
      },
      "outputs": [
        {
          "output_type": "stream",
          "name": "stdout",
          "text": [
            "The first 2 elements are [16  5] \n",
            "The last two elements are [43 20] \n",
            "Elements in the middle are [11 36 21  2].\n"
          ]
        }
      ],
      "source": [
        "''' Slicing\n",
        "Slice the above array and extract the first 2 elements, the last two elements, and all elements that are left in the middle.\n",
        "'''\n",
        "\n",
        "# BEGIN_YOUR_CODE\n",
        "first_two = array[0:2]\n",
        "last_two = array[8::]\n",
        "middle = array[3:7]\n",
        "# END_YOUR_CODE\n",
        "\n",
        "print('The first 2 elements are {0} \\nThe last two elements are {1} \\nElements in the middle are {2}.'.format(first_two, last_two, middle))"
      ]
    },
    {
      "cell_type": "code",
      "execution_count": null,
      "metadata": {
        "colab": {
          "base_uri": "https://localhost:8080/"
        },
        "id": "fRZiJUzda6yY",
        "outputId": "4b09658f-16d2-49b0-dd1c-9c9e154a761d"
      },
      "outputs": [
        {
          "output_type": "stream",
          "name": "stdout",
          "text": [
            "[array([16,  5]), array([25, 11]), array([36, 21]), array([ 2, 21]), array([43, 20])]\n"
          ]
        }
      ],
      "source": [
        "'''Split an array\n",
        "For the above list 'array' split the list into 5 equal parts  and print it in the form\n",
        "[array([1,2]), array([3,4]), array([5,6]), array([7,8]), array([9,10])]\n",
        "\n",
        "'''\n",
        "\n",
        "# BEGIN_YOUR_CODE\n",
        "splitl = np.split(array,5)\n",
        "print(splitl)\n",
        "# END_YOUR_CODE"
      ]
    },
    {
      "cell_type": "code",
      "execution_count": null,
      "metadata": {
        "colab": {
          "base_uri": "https://localhost:8080/"
        },
        "id": "3Ttj2j-ya6yY",
        "outputId": "88c35623-5773-4159-aada-14fe4f53fbec"
      },
      "outputs": [
        {
          "output_type": "stream",
          "name": "stdout",
          "text": [
            "[ 4 56 44 88 31 98 63 12  3 88]\n",
            "[76 26 32 50 51 18 21 32 37 14]\n",
            "[ 3  4 12 31 44 56 63 88 98]\n",
            "[]\n"
          ]
        }
      ],
      "source": [
        "'''Generate two arrays of size 10 (integers randomly selected between 1 and 100). \n",
        "Print unique elements of array1 and common elements of both arrays separately\n",
        "'''\n",
        "\n",
        "# BEGIN_YOUR_CODE\n",
        "array1 = np.random.randint(1,101,10,int)\n",
        "array2 = np.random.randint(1,101,10,int)\n",
        "unique_elements_array1 = np.unique(array1)\n",
        "common_elements_array1_array2 = np.intersect1d(array1,array2)\n",
        "\n",
        "print(array1)\n",
        "print(array2)\n",
        "print(unique_elements_array1)\n",
        "print(common_elements_array1_array2)\n",
        "\n",
        "# END_YOUR_CODE"
      ]
    },
    {
      "cell_type": "code",
      "execution_count": null,
      "metadata": {
        "colab": {
          "base_uri": "https://localhost:8080/"
        },
        "id": "x39Fry3OvnnF",
        "outputId": "dc69c347-4bb3-4b8c-cfb2-b4ac0c168a74"
      },
      "outputs": [
        {
          "output_type": "stream",
          "name": "stdout",
          "text": [
            "[[16  5]\n",
            " [25 11]\n",
            " [36 21]\n",
            " [ 2 21]\n",
            " [43 20]]\n"
          ]
        }
      ],
      "source": [
        "'''Changing dimensions\n",
        "Convert your 1D array defined above to a 2D matrix and print its shape. The final output dimension should be 5x2.\n",
        "'''\n",
        "\n",
        "# BEGIN_YOUR_CODE\n",
        "array2D = np.reshape(array,(5,2))\n",
        "print(array2D)\n",
        "# END_YOUR_CODE"
      ]
    },
    {
      "cell_type": "code",
      "execution_count": null,
      "metadata": {
        "colab": {
          "base_uri": "https://localhost:8080/"
        },
        "id": "GTPk6XwivnnG",
        "outputId": "1bb205f4-d15c-4c0d-a79e-ebc1a5bbc610"
      },
      "outputs": [
        {
          "output_type": "stream",
          "name": "stdout",
          "text": [
            "[1 2 3 4 5 6]\n",
            "(6,)\n"
          ]
        }
      ],
      "source": [
        "'''Changing dimensions\n",
        "Convert a matrix below to 1D array and print its dimension\n",
        "'''\n",
        "\n",
        "A = np.array([[1,2], [3,4], [5,6]])\n",
        "\n",
        "# BEGIN_YOUR_CODE\n",
        "array1D = A.flatten()\n",
        "print(array1D)\n",
        "print(array1D.shape)\n",
        "# END_YOUR_CODE"
      ]
    },
    {
      "cell_type": "code",
      "execution_count": 227,
      "metadata": {
        "colab": {
          "base_uri": "https://localhost:8080/"
        },
        "id": "ALyMwuojvnnM",
        "outputId": "fd3166bc-0dbe-4905-d18d-1be6b939b33a"
      },
      "outputs": [
        {
          "output_type": "stream",
          "name": "stdout",
          "text": [
            "\n",
            "Matrix A is \n",
            "[[0.19655662 0.9670088  0.82163033 0.67049751 0.13347626 0.64578554]\n",
            " [0.88130683 0.10970223 0.09128115 0.19362679 0.60061553 0.65735962]\n",
            " [0.63186301 0.00369554 0.62852907 0.63307633 0.26711322 0.85419213]\n",
            " [0.48151632 0.01888777 0.7580335  0.29226645 0.06525219 0.44597318]\n",
            " [0.4467272  0.42586222 0.4043548  0.24173319 0.44337097 0.32354823]] \n",
            "Matrix B is \n",
            "[[0.61106333 0.65706352 0.40426372 0.03776019 0.33944317]\n",
            " [0.92068564 0.60764946 0.98590861 0.29974195 0.42949396]\n",
            " [0.04995156 0.18288156 0.53734331 0.16533216 0.05298662]\n",
            " [0.70419745 0.89716744 0.04298724 0.58268574 0.39215376]\n",
            " [0.06197465 0.48999665 0.18924951 0.03494223 0.91702084]\n",
            " [0.16179219 0.67576659 0.9282257  0.23094407 0.03757493]], \n",
            "Their product is \n",
            "[[1.63637921 1.97036534 2.12785846 0.97761068 0.93518364]\n",
            " [0.92402526 1.57466562 1.24565383 0.36687611 1.00251539]\n",
            " [1.02147335 1.80846066 1.46746699 0.70437174 0.77468029]\n",
            " [0.63150386 1.06205337 1.05948186 0.42474533 0.40293366]\n",
            " [0.93531522 1.27902065 1.21235914 0.44243853 0.86950345]]\n"
          ]
        }
      ],
      "source": [
        "''' Matrices\n",
        "Create two matrices A and B of size 5X6 and 6X5 respectively with random values from 0 to 1, and perform the dot product on them\n",
        "'''\n",
        "\n",
        "# BEGIN_YOUR_CODE\n",
        "A = np.random.rand(5,6)\n",
        "B = np.random.rand(6,5)\n",
        "dot_product = np.dot(A,B)\n",
        "# END_YOUR_CODE\n",
        "\n",
        "print('\\nMatrix A is \\n{0} \\nMatrix B is \\n{1}, \\nTheir product is \\n{2}'.format(A, B, dot_product))"
      ]
    },
    {
      "cell_type": "code",
      "execution_count": 228,
      "metadata": {
        "colab": {
          "base_uri": "https://localhost:8080/"
        },
        "id": "cf2kSBLXvnnN",
        "outputId": "aac2f8f6-1846-4cff-e7f6-b96913803fc5"
      },
      "outputs": [
        {
          "output_type": "stream",
          "name": "stdout",
          "text": [
            "[0.9670088  0.88130683 0.85419213 0.7580335  0.4467272 ]\n"
          ]
        }
      ],
      "source": [
        "''' Maximum value\n",
        "Return the maximum value present in each row of Matrix A created in the previous question. \n",
        "Result should come in the form: [row1_max row2_max row3_max row4_max row5_max]\n",
        "'''\n",
        "\n",
        "# BEGIN_YOUR_CODE\n",
        "result = np.amax(A,axis=1)\n",
        "print(result)\n",
        "# END_YOUR_CODE"
      ]
    },
    {
      "cell_type": "code",
      "execution_count": 229,
      "metadata": {
        "colab": {
          "base_uri": "https://localhost:8080/"
        },
        "id": "khuCG55GvnnO",
        "outputId": "aad6d843-3f4d-4cd9-afe7-feff265bb706"
      },
      "outputs": [
        {
          "output_type": "stream",
          "name": "stdout",
          "text": [
            "[[0.58966985 2.9010264  2.46489098 2.01149253 0.40042877 1.93735662]\n",
            " [2.6439205  0.32910668 0.27384346 0.58088036 1.8018466  1.97207885]\n",
            " [1.89558904 0.01108662 1.88558721 1.899229   0.80133966 2.5625764 ]\n",
            " [1.44454895 0.05666332 2.27410049 0.87679935 0.19575657 1.33791953]\n",
            " [1.34018159 1.27758667 1.21306439 0.72519957 1.33011291 0.9706447 ]]\n"
          ]
        }
      ],
      "source": [
        "''' Multiply the Matrix A from previous question with a scalar 3\n",
        "'''\n",
        "\n",
        "# BEGIN_YOUR_CODE\n",
        "A3 = np.multiply(A,3)\n",
        "print(A3)\n",
        "# END_YOUR_CODE"
      ]
    },
    {
      "cell_type": "code",
      "execution_count": 231,
      "metadata": {
        "colab": {
          "base_uri": "https://localhost:8080/"
        },
        "id": "KVFM3ERnvnnP",
        "outputId": "1ba4680b-ba24-4515-8d53-81e754600ff4"
      },
      "outputs": [
        {
          "output_type": "stream",
          "name": "stdout",
          "text": [
            "\n",
            "Matrix A is \n",
            "[[2.04493528 0.53558283 3.47623363 8.1813308 ]\n",
            " [1.04041657 1.60524514 9.53690611 3.65845162]] \n",
            "Matrix B is \n",
            "[[3.22797455 8.90970357 9.44328699 2.04811667]\n",
            " [9.47592095 8.41497112 4.06555945 0.57436306]], \n",
            "Their element-wise multiplication is \n",
            "[[ 6.60099904  4.77188428 32.82707177 16.75631996]\n",
            " [ 9.85890518 13.50809149 38.77285872  2.10127947]]\n"
          ]
        }
      ],
      "source": [
        "''' Element-wise multiplication\n",
        "Define two matrices A and B 2x4 with random values from 0 to 9. Perform element-wise multiplication of Matrices A and B\n",
        "''' \n",
        "\n",
        "# BEGIN_YOUR_CODE\n",
        "A = np.random.uniform(0,10,(2,4))\n",
        "B = np.random.uniform(0,10,(2,4))\n",
        "multiplicaiton = np.multiply(A,B)\n",
        "# END_YOUR_CODE\n",
        "\n",
        "print('\\nMatrix A is \\n{0} \\nMatrix B is \\n{1}, \\nTheir element-wise multiplication is \\n{2}'.format(A, B, multiplicaiton))"
      ]
    },
    {
      "cell_type": "markdown",
      "metadata": {
        "id": "uiyFNoJivnnQ"
      },
      "source": [
        "<a id='part3'></a>\n",
        "## Part 3 - Algorithms [30 points]"
      ]
    },
    {
      "cell_type": "markdown",
      "metadata": {
        "id": "bE9PC_sEvnnQ"
      },
      "source": [
        "### Euclidian Distance\n",
        "\n",
        "Let point $p$ have Cartesian coordinates $(p_1,p_2)$ and let point $q$ have coordinates $(q_1,q_2)$. Then the distance between $p$ and $q$ is given by:\n",
        "    $d(p,q) = \\sqrt{(q_1-p_1)^2 + (q_2-p_2)^2}$.</math>"
      ]
    },
    {
      "cell_type": "code",
      "execution_count": null,
      "metadata": {
        "id": "eWfSpbVqvnnR"
      },
      "outputs": [],
      "source": [
        "''' Euclidean distance\n",
        "Using numpy library return the Euclidean distance between two locations, where the locations are pairs of numbers (e.g., (3, 5)) '''\n",
        "\n",
        "def euclidean_distance(loc1: int, loc2: int) -> float:\n",
        "\n",
        "    # BEGIN_YOUR_CODE\n",
        "  distance = np.sqrt(np.sum(np.square(np.subtract(loc1,loc2))))\n",
        "  return distance\n",
        "    \n",
        "    # END_YOUR_CODE"
      ]
    },
    {
      "cell_type": "code",
      "execution_count": null,
      "metadata": {
        "id": "aKXPrvGBvnnR"
      },
      "outputs": [],
      "source": [
        "def euclidean_distance_test():\n",
        "    random.seed(34)\n",
        "    for _ in range(10):\n",
        "        x1 = random.randint(0, 10)\n",
        "        x2 = random.randint(0, 10)\n",
        "        y1 = random.randint(0, 10)\n",
        "        y2 = random.randint(0, 10)\n",
        "        dist = euclidean_distance((x1, x2), (y1, y2))\n",
        "    return('Loc1 is ({0}, {1}), loc2 is ({2}, {3}). Euclidian disctance is {4}.'.format(x1, x2, y1, y2, dist))"
      ]
    },
    {
      "cell_type": "code",
      "execution_count": null,
      "metadata": {
        "colab": {
          "base_uri": "https://localhost:8080/"
        },
        "id": "yI3g4R1hvnnR",
        "outputId": "3fac7410-c77b-4939-acff-1f989404e30f"
      },
      "outputs": [
        {
          "output_type": "stream",
          "name": "stdout",
          "text": [
            "Loc1 is (5, 3), loc2 is (3, 7). Euclidian disctance is 4.47213595499958.\n"
          ]
        }
      ],
      "source": [
        "if __name__ == '__main__':\n",
        "    print(euclidean_distance_test())"
      ]
    },
    {
      "cell_type": "markdown",
      "metadata": {
        "id": "lTuFruDrvnnR"
      },
      "source": [
        "### String Operations"
      ]
    },
    {
      "cell_type": "code",
      "execution_count": 222,
      "metadata": {
        "id": "AGJHIeXkvnnS"
      },
      "outputs": [],
      "source": [
        "''' Alphabetically first word\n",
        "Given a string, lowecase, sort our all words in the alphabetical order and return the word that comes first.\n",
        "If the input text is an empty string, return an empty string or throw an error. '''\n",
        "\n",
        "def first_word(text: str) -> str:\n",
        "    \n",
        "    # BEGIN_YOUR_CODE\n",
        "  punc = '''!()-[]{};:'\"\\,<>./?@#$%^&*_~'''\n",
        "  text= text.lower()\n",
        "  for ele in text:\n",
        "    if ele in punc:\n",
        "        text = text.replace(ele, \"\")\n",
        "  if text==[]:\n",
        "    return []\n",
        "  else: \n",
        "    sorttext = sorted(text.split(), key=str.lower)\n",
        "    return sorttext[0]\n",
        "    # END_YOUR_CODE"
      ]
    },
    {
      "cell_type": "code",
      "execution_count": 223,
      "metadata": {
        "id": "Suevhw9TvnnS"
      },
      "outputs": [],
      "source": [
        "def first_word_test():\n",
        "    result0 = first_word('WelCome tO Ub')\n",
        "    result1 = first_word('CSE574 IntRo to ML cLasS')\n",
        "    result2 = first_word('SequenCes of DeCiSions')\n",
        "    result3 = first_word('Wolf, Panther, Leopard, Dog, Cat')\n",
        "    return result0, result1, result2, result3"
      ]
    },
    {
      "cell_type": "code",
      "execution_count": 224,
      "metadata": {
        "id": "DfSoFXLrvnnT",
        "colab": {
          "base_uri": "https://localhost:8080/"
        },
        "outputId": "e4ae9f54-fe58-4e06-8c00-4c8a0a1c500e"
      },
      "outputs": [
        {
          "output_type": "stream",
          "name": "stdout",
          "text": [
            "('to', 'class', 'decisions', 'cat')\n"
          ]
        }
      ],
      "source": [
        "if __name__ == '__main__':\n",
        "    print(first_word_test())"
      ]
    },
    {
      "cell_type": "markdown",
      "metadata": {
        "id": "zW6tTqawDOBv"
      },
      "source": [
        "## Load from Drive*\n",
        "\n",
        "*If you are using Goolge Colab, uncomment the following piece of code and verify the file using the command, if you can see your file ```museum.csv``` you are good to go."
      ]
    },
    {
      "cell_type": "code",
      "execution_count": 216,
      "metadata": {
        "id": "pjT-aVLya6yb",
        "colab": {
          "base_uri": "https://localhost:8080/"
        },
        "outputId": "f39ca9a2-35dd-468c-a5b6-e7ba0008f42a"
      },
      "outputs": [
        {
          "output_type": "stream",
          "name": "stdout",
          "text": [
            "/content\n",
            "sample_data\n"
          ]
        }
      ],
      "source": [
        "!pwd\n",
        "!ls"
      ]
    },
    {
      "cell_type": "code",
      "execution_count": 217,
      "metadata": {
        "id": "nV7Jv5SPDGsy",
        "colab": {
          "base_uri": "https://localhost:8080/"
        },
        "outputId": "1fb80d3e-a720-4bc2-bcc2-a577bff112a4"
      },
      "outputs": [
        {
          "output_type": "stream",
          "name": "stdout",
          "text": [
            "Mounted at /content/drive\n",
            "/\n",
            "/content/drive/MyDrive\n"
          ]
        }
      ],
      "source": [
        "from google.colab import drive\n",
        "drive.mount('/content/drive')\n",
        "%cd ..\n",
        "%cd /content/drive/MyDrive"
      ]
    },
    {
      "cell_type": "markdown",
      "metadata": {
        "id": "zGMa8NVpvnnU"
      },
      "source": [
        "<a id='part4'></a>\n",
        "##  Part 4 - Pandas Basics [20 points]\n",
        "\n",
        "Some important resources:\n",
        "\n",
        "- [A Pandas guide](https://pandasguide.readthedocs.io/en/latest/) covers fundamental information about the package\n",
        "\n",
        "- [Pandas Cheat Sheet](https://www.datacamp.com/community/blog/python-pandas-cheat-sheet)"
      ]
    },
    {
      "cell_type": "code",
      "execution_count": null,
      "metadata": {
        "id": "-JA6l-hpvnnU"
      },
      "outputs": [],
      "source": [
        "'''Install and import pandas library\n",
        "'''\n",
        "\n",
        "# BEGIN_YOUR_CODE\n",
        "\n",
        "# END_YOUR_CODE"
      ]
    },
    {
      "cell_type": "code",
      "execution_count": null,
      "metadata": {
        "id": "vNYL_RNyvnnV"
      },
      "outputs": [],
      "source": [
        "'''Read given 'DataFile' and extract into Dataframe\n",
        "'''\n",
        "\n",
        "# BEGIN_YOUR_CODE\n",
        "\n",
        "# END_YOUR_CODE"
      ]
    },
    {
      "cell_type": "code",
      "execution_count": null,
      "metadata": {
        "id": "nQhbLF7CvnnV"
      },
      "outputs": [],
      "source": [
        "'''Provide the main statistics about the entries of the dataset (mean, std, etc.)\n",
        "'''\n",
        "\n",
        "# BEGIN_YOUR_CODE\n",
        "\n",
        "# END_YOUR_CODE"
      ]
    },
    {
      "cell_type": "code",
      "execution_count": null,
      "metadata": {
        "id": "JnuZGhGwvnnW"
      },
      "outputs": [],
      "source": [
        "''' Print shape of the dataset '''\n",
        "\n",
        "# BEGIN_YOUR_CODE\n",
        "\n",
        "# END_YOUR_CODE"
      ]
    },
    {
      "cell_type": "code",
      "execution_count": null,
      "metadata": {
        "id": "nFWD5zl8vnne"
      },
      "outputs": [],
      "source": [
        "''' Return all the colums names'''\n",
        "\n",
        "# BEGIN_YOUR_CODE\n",
        "\n",
        "# END_YOUR_CODE"
      ]
    },
    {
      "cell_type": "code",
      "execution_count": null,
      "metadata": {
        "id": "6-1Dj0sGvnng"
      },
      "outputs": [],
      "source": [
        "''' Print a list of museums types '''\n",
        "\n",
        "# BEGIN_YOUR_CODE\n",
        "\n",
        "# END_YOUR_CODE"
      ]
    },
    {
      "cell_type": "code",
      "execution_count": null,
      "metadata": {
        "id": "wUSzjQC3vnng"
      },
      "outputs": [],
      "source": [
        "''' Return insight about index(columns) of museum.csv '''\n",
        "\n",
        "# BEGIN_YOUR_CODE\n",
        "\n",
        "# END_YOUR_CODE"
      ]
    },
    {
      "cell_type": "code",
      "execution_count": null,
      "metadata": {
        "id": "u69eQZTta6yc"
      },
      "outputs": [],
      "source": [
        "'''Print top 10 rows of the dataset'''\n",
        "\n",
        "# BEGIN_YOUR_CODE\n",
        "\n",
        "# END_YOUR_CODE"
      ]
    },
    {
      "cell_type": "markdown",
      "metadata": {
        "id": "YNq5ppEGvnnh"
      },
      "source": [
        "<a id='part5'></a>\n",
        "## Matplotlib Basics [20 points]"
      ]
    },
    {
      "cell_type": "markdown",
      "metadata": {
        "id": "MyidlhZlIPa2"
      },
      "source": [
        "Heatmaps are a useful plot tool which help us visualize the data density or distribution. Refer the below documentation for more details on heatmap.\n",
        "\n",
        "[Matplotlib tutorial](https://machinelearningknowledge.ai/matplotlib-heatmap-complete-tutorial-for-beginners/)\n",
        "\n",
        "**Note:** You can only use matplotlib library for the following tasks"
      ]
    },
    {
      "cell_type": "code",
      "execution_count": null,
      "metadata": {
        "id": "bfFqEdGEvnnh"
      },
      "outputs": [],
      "source": [
        "''' Install and import matplotlib library\n",
        "'''\n",
        "\n",
        "# BEGIN_YOUR_CODE\n",
        "\n",
        "# END_YOUR_CODE"
      ]
    },
    {
      "cell_type": "code",
      "execution_count": null,
      "metadata": {
        "id": "25-jR3OHstb_"
      },
      "outputs": [],
      "source": [
        "''' Heatmap\n",
        "Take any random numpy array of dimension 10x15 and plot a heatmap\n",
        "'''\n",
        "\n",
        "# BEGIN YOUR CODE\n",
        "\n",
        "# END YOUR CODE"
      ]
    },
    {
      "cell_type": "code",
      "execution_count": null,
      "metadata": {
        "id": "VD6WIdUU4-PA"
      },
      "outputs": [],
      "source": [
        "'''For the given value x plot the function y = 1/x using list comprehension on y.\n",
        "You can check https://docs.python.org/3/tutorial/datastructures.html#list-comprehensions to learn how to use list comprehension\n",
        "'''\n",
        "\n",
        "x = range(25)\n",
        "\n",
        "# BEGIN YOUR CODE\n",
        "\n",
        "# END YOUR CODE"
      ]
    },
    {
      "cell_type": "code",
      "execution_count": null,
      "metadata": {
        "id": "GB4uqfd8K495"
      },
      "outputs": [],
      "source": [
        "'''For the given value x plot the function y = x^2 using lambda function y.\n",
        "\n",
        "Lambda function is a small anonymous function which consist of a single expression, and is usually used when we need the function for a smaller duration\n",
        "https://realpython.com/python-lambda/\n",
        "'''\n",
        "\n",
        "x = range(25)\n",
        "\n",
        "# BEGIN YOUR CODE\n",
        "\n",
        "# END YOUR CODE\n"
      ]
    },
    {
      "cell_type": "code",
      "execution_count": null,
      "metadata": {
        "id": "0EDxZ52ka6yd"
      },
      "outputs": [],
      "source": [
        "'''On one graph draw two lines:\n",
        "1) Plot the function y = x^2 using lambda function y (use your code from above)\n",
        "2) A scatter plot for y = x^3 using either list comprehension or lambda function for evaluating y\n",
        "'''\n",
        "\n",
        "x = range(25)\n",
        "\n",
        "# BEGIN YOUR CODE\n",
        "\n",
        "# END YOUR CODE"
      ]
    },
    {
      "cell_type": "code",
      "execution_count": null,
      "metadata": {
        "id": "AEbDCKYH7UfV"
      },
      "outputs": [],
      "source": [
        "'''Create subplots showing graphs of tan and cot side by side of each other\n",
        "the value of theta ranges from -30 to 30\n",
        "\n",
        "HINT: You might want to utilize np.linespace() or np.arrange() to create smooth curves\n",
        "'''\n",
        "\n",
        "import math\n",
        "\n",
        "# BEGIN YOUR CODE\n",
        "\n",
        "# END YOUR CODE"
      ]
    },
    {
      "cell_type": "code",
      "execution_count": null,
      "metadata": {
        "id": "4nyw_l5Ta6ye"
      },
      "outputs": [],
      "source": [
        "'''Draw a line for given GPAs of students [3.5, 2.3, 3.8, 2.4, 2.9, 3.3] using markers\n",
        "'''\n",
        "\n",
        "# BEGIN_YOUR_CODE\n",
        "\n",
        "# END_YOUR_CODE"
      ]
    },
    {
      "cell_type": "code",
      "execution_count": null,
      "metadata": {
        "id": "kKVbRBNra6ye"
      },
      "outputs": [],
      "source": [
        "''' Museum (\"museum.csv\"): total number of museums per type\n",
        "\n",
        "Plot a bar graph which shows the total number of museums in USA corresponding to the museum type\n",
        "'''\n",
        "\n",
        "# BEGIN YOUR CODE\n",
        "\n",
        "# END YOUR CODE"
      ]
    },
    {
      "cell_type": "code",
      "execution_count": null,
      "metadata": {
        "id": "yENY45pIs_S9"
      },
      "outputs": [],
      "source": [
        "''' Museum (\"museum.csv\"): total number of museums per state\n",
        "\n",
        "Plot a graph which shows the total number of museums per each state (\"State (Physical Location)\")\n",
        "'''\n",
        "\n",
        "# BEGIN YOUR CODE\n",
        "\n",
        "# END YOUR CODE"
      ]
    },
    {
      "cell_type": "markdown",
      "metadata": {
        "id": "Oo6h1NH6R6Pq"
      },
      "source": [
        "#### Results analyzing\n",
        "\n",
        "Analyze the graph and answer the following two questions:\n",
        "\n",
        "**1) What is your inference from the above graph?**\n",
        "\n",
        "*YOUR ANSWER:*\n",
        "\n",
        "**2) Which state has the most number of museum?**\n",
        "\n",
        "*YOUR ANSWER:*\n",
        "\n",
        "**3) Which is the most common type of museum?**\n",
        "\n",
        "*YOUR ANSWER:*\n"
      ]
    },
    {
      "cell_type": "markdown",
      "metadata": {
        "id": "toxZCPhevnni"
      },
      "source": [
        "## References Used\n",
        "\n",
        "**List below all the references you used to complete the assignment**"
      ]
    },
    {
      "cell_type": "code",
      "execution_count": null,
      "metadata": {
        "id": "YW_6TvjFrilZ"
      },
      "outputs": [],
      "source": [
        "https://numpy.org/\n",
        "https://docs.python.org/3/howto/sorting.html\n",
        "https://www.geeksforgeeks.org/python-remove-punctuation-from-string/\n"
      ]
    }
  ],
  "metadata": {
    "celltoolbar": "Raw Cell Format",
    "colab": {
      "collapsed_sections": [
        "bE9PC_sEvnnQ",
        "zGMa8NVpvnnU",
        "YNq5ppEGvnnh"
      ],
      "name": "spring22_cse574_c&d_Assignment_1.ipynb",
      "provenance": []
    },
    "kernelspec": {
      "display_name": "Python 3",
      "language": "python",
      "name": "python3"
    },
    "language_info": {
      "codemirror_mode": {
        "name": "ipython",
        "version": 3
      },
      "file_extension": ".py",
      "mimetype": "text/x-python",
      "name": "python",
      "nbconvert_exporter": "python",
      "pygments_lexer": "ipython3",
      "version": "3.6.13"
    }
  },
  "nbformat": 4,
  "nbformat_minor": 0
}